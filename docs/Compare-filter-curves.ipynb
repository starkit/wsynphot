{
 "cells": [
  {
   "cell_type": "markdown",
   "metadata": {},
   "source": [
    "### Plot & Compare Filter Curves by selecting the required Observation Facility and Instrument"
   ]
  },
  {
   "cell_type": "code",
   "execution_count": 1,
   "metadata": {},
   "outputs": [
    {
     "name": "stdout",
     "output_type": "stream",
     "text": [
      "[\u001b[1mpy.warnings         \u001b[0m][\u001b[1;33mWARNING\u001b[0m]  /home/jpolygon/miniconda3/envs/starkit/lib/python2.7/site-packages/tqdm/autonotebook/__init__.py:14: TqdmExperimentalWarning: Using `tqdm.autonotebook.tqdm` in notebook mode. Use `tqdm.tqdm` instead to force console mode (e.g. in jupyter console)\n",
      "  \" (e.g. in jupyter console)\", TqdmExperimentalWarning)\n",
      " (\u001b[1m__init__.py\u001b[0m:14)\n",
      "Populating the interactive namespace from numpy and matplotlib\n"
     ]
    }
   ],
   "source": [
    "import wsynphot\n",
    "%pylab notebook\n",
    "plt.style.use('seaborn-colorblind')\n",
    "plt.style.use('seaborn-notebook')\n",
    "from IPython.display import *\n",
    "import ipywidgets as widgets\n",
    "from ipywidgets import *\n",
    "import pandas as pd"
   ]
  },
  {
   "cell_type": "code",
   "execution_count": 2,
   "metadata": {
    "scrolled": false
   },
   "outputs": [
    {
     "data": {
      "application/vnd.jupyter.widget-view+json": {
       "model_id": "152d385fb5b545febe69d0651586fac7",
       "version_major": 2,
       "version_minor": 0
      },
      "text/plain": [
       "aW50ZXJhY3RpdmUoY2hpbGRyZW49KERyb3Bkb3duKGRlc2NyaXB0aW9uPXUnT2JzZXJ2YXRpb24gRmFjaWxpdHk6JywgbGF5b3V0PUxheW91dCh3aWR0aD11JzMwMHB4JyksIG9wdGlvbnM9KHXigKY=\n"
      ]
     },
     "metadata": {},
     "output_type": "display_data"
    },
    {
     "data": {
      "text/plain": [
       "<function __main__.plot_filters>"
      ]
     },
     "execution_count": 2,
     "metadata": {},
     "output_type": "execute_result"
    }
   ],
   "source": [
    "df=wsynphot.list_filters()\n",
    "#Populate dropdown of Obs. facility (widget1) from df\n",
    "obsfac=pd.Series(df['Obs. Facility'].unique())\n",
    "widget1 = Dropdown(options = obsfac,\n",
    "                   description='Observation Facility:',\n",
    "                   style={'description_width': 'initial'},\n",
    "                   layout=Layout(width='300px'))\n",
    "\n",
    "widget2 = Dropdown(description='Instrument:',\n",
    "                   layout=Layout(left='40px',width='260px'))\n",
    "\n",
    "#Update dropdown of Instrument (widget2) on basis of selection in widget1\n",
    "def update(*args):\n",
    "    widget2.options = df[df['Obs. Facility']==widget1.value]['Instrument'].unique().tolist()\n",
    "    \n",
    "widget1.observe(update, names='value')\n",
    "\n",
    "#Plot the filters on basis of selection from both widgets (the selected obs. facilty & instrument combination)\n",
    "def plot_filters(w1,w2):\n",
    "    if w1 and w2:\n",
    "        df1=df[df['Obs. Facility']==w1]\n",
    "        filters=df1[df1['Instrument']==w2].index.tolist()\n",
    "        plt.figure(figsize=(20,5))\n",
    "        print 'No of filters:',len(filters)\n",
    "        for filt in filters:\n",
    "            filter = wsynphot.FilterCurve.load_filter(filt)\n",
    "            filter.plot(gca())\n",
    "            print(filt)\n",
    "\n",
    "interact(plot_filters,w1=widget1,w2=widget2)"
   ]
  },
  {
   "cell_type": "code",
   "execution_count": null,
   "metadata": {},
   "outputs": [],
   "source": []
  }
 ],
 "metadata": {
  "kernelspec": {
   "display_name": "Python 2",
   "language": "python",
   "name": "python2"
  },
  "language_info": {
   "codemirror_mode": {
    "name": "ipython",
    "version": 2
   },
   "file_extension": ".py",
   "mimetype": "text/x-python",
   "name": "python",
   "nbconvert_exporter": "python",
   "pygments_lexer": "ipython2",
   "version": "2.7.15"
  }
 },
 "nbformat": 4,
 "nbformat_minor": 2
}
