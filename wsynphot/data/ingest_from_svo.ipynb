{
 "cells": [
  {
   "cell_type": "code",
   "execution_count": 1,
   "metadata": {
    "ExecuteTime": {
     "end_time": "2018-10-18T14:44:11.700231Z",
     "start_time": "2018-10-18T14:44:10.499810Z"
    },
    "collapsed": true
   },
   "outputs": [],
   "source": [
    "import urllib2, re, os\n",
    "import bs4\n",
    "import pandas as pd"
   ]
  },
  {
   "cell_type": "code",
   "execution_count": 2,
   "metadata": {
    "ExecuteTime": {
     "end_time": "2018-10-18T14:44:11.709606Z",
     "start_time": "2018-10-18T14:44:11.704635Z"
    },
    "collapsed": true
   },
   "outputs": [],
   "source": [
    "SVO_BASE_URL = 'http://svo2.cab.inta-csic.es/svo/theory/fps'"
   ]
  },
  {
   "cell_type": "code",
   "execution_count": 36,
   "metadata": {
    "ExecuteTime": {
     "end_time": "2018-10-18T14:54:31.820698Z",
     "start_time": "2018-10-18T14:54:31.806829Z"
    },
    "collapsed": false
   },
   "outputs": [],
   "source": [
    "def generate_observatory_list():\n",
    "    svo_html = urllib2.urlopen(SVO_BASE_URL).read()\n",
    "    svo_soup = bs4.BeautifulSoup(svo_html)\n",
    "    observatory_links = svo_soup.findAll('a', attrs={'href':re.compile('gname')})\n",
    "    observatory_list = pd.DataFrame(index=range(len(observatory_links)), columns=['name', 'url'])\n",
    "    for i, obs_link in enumerate(observatory_links):\n",
    "        observatory_list.loc[i] = obs_link.text, obs_link.attrs['href']\n",
    "    return observatory_list\n",
    "\n",
    "def generate_instrument_list(observatory_url):\n",
    "    observatory_html = urllib2.urlopen(observatory_url).read()\n",
    "    observatory_soup = bs4.BeautifulSoup(observatory_html)\n",
    "    filter_soup = observatory_soup.findAll('table')[8]\n",
    "    filter_table = pd.read_html(str(filter_soup), header=0)[0]\n",
    "    return filter_table"
   ]
  },
  {
   "cell_type": "code",
   "execution_count": 4,
   "metadata": {
    "ExecuteTime": {
     "end_time": "2018-10-18T14:44:12.765787Z",
     "start_time": "2018-10-18T14:44:11.734541Z"
    },
    "collapsed": false
   },
   "outputs": [],
   "source": [
    "observatory_list = generate_observatory_list()"
   ]
  },
  {
   "cell_type": "code",
   "execution_count": 38,
   "metadata": {
    "ExecuteTime": {
     "end_time": "2018-10-18T14:54:50.466214Z",
     "start_time": "2018-10-18T14:54:49.670878Z"
    },
    "collapsed": false
   },
   "outputs": [
    {
     "data": {
      "text/html": [
       "<div>\n",
       "<table border=\"1\" class=\"dataframe\">\n",
       "  <thead>\n",
       "    <tr style=\"text-align: right;\">\n",
       "      <th></th>\n",
       "      <th>Filter ID</th>\n",
       "      <th>Î»mean</th>\n",
       "      <th>Î»eff</th>\n",
       "      <th>Î»min</th>\n",
       "      <th>Î»max</th>\n",
       "      <th>Weff</th>\n",
       "      <th>ZP (Jy)</th>\n",
       "      <th>Obs. Facility</th>\n",
       "      <th>Instrument</th>\n",
       "      <th>Description</th>\n",
       "    </tr>\n",
       "  </thead>\n",
       "  <tbody>\n",
       "    <tr>\n",
       "      <th>0</th>\n",
       "      <td>Euclid/NISP0.Y</td>\n",
       "      <td>10742.4</td>\n",
       "      <td>10588.5</td>\n",
       "      <td>9405</td>\n",
       "      <td>12037</td>\n",
       "      <td>2366.2</td>\n",
       "      <td>1939.6</td>\n",
       "      <td>Euclid</td>\n",
       "      <td>NISP</td>\n",
       "      <td>NISP Y approximate filter</td>\n",
       "    </tr>\n",
       "    <tr>\n",
       "      <th>1</th>\n",
       "      <td>Euclid/NISP0.Blue</td>\n",
       "      <td>11071.0</td>\n",
       "      <td>10789.3</td>\n",
       "      <td>9252</td>\n",
       "      <td>12961</td>\n",
       "      <td>3162.2</td>\n",
       "      <td>1864.2</td>\n",
       "      <td>Euclid</td>\n",
       "      <td>NISP</td>\n",
       "      <td>NISP Blue approximate filter</td>\n",
       "    </tr>\n",
       "    <tr>\n",
       "      <th>2</th>\n",
       "      <td>Euclid/NISP0.J</td>\n",
       "      <td>13623.5</td>\n",
       "      <td>13321.4</td>\n",
       "      <td>11625</td>\n",
       "      <td>15650</td>\n",
       "      <td>3680.5</td>\n",
       "      <td>1377.8</td>\n",
       "      <td>Euclid</td>\n",
       "      <td>NISP</td>\n",
       "      <td>NISP J approximate filter</td>\n",
       "    </tr>\n",
       "    <tr>\n",
       "      <th>3</th>\n",
       "      <td>Euclid/NISP0.Red</td>\n",
       "      <td>15408.1</td>\n",
       "      <td>14674.9</td>\n",
       "      <td>12153</td>\n",
       "      <td>18762</td>\n",
       "      <td>6001.3</td>\n",
       "      <td>1150.6</td>\n",
       "      <td>Euclid</td>\n",
       "      <td>NISP</td>\n",
       "      <td>NISP Red approximate filter</td>\n",
       "    </tr>\n",
       "    <tr>\n",
       "      <th>4</th>\n",
       "      <td>Euclid/NISP0.H</td>\n",
       "      <td>17644.0</td>\n",
       "      <td>17258.5</td>\n",
       "      <td>15104</td>\n",
       "      <td>20315</td>\n",
       "      <td>4722.1</td>\n",
       "      <td>928.2</td>\n",
       "      <td>Euclid</td>\n",
       "      <td>NISP</td>\n",
       "      <td>NISP H approximate filter</td>\n",
       "    </tr>\n",
       "  </tbody>\n",
       "</table>\n",
       "</div>"
      ],
      "text/plain": [
       "           Filter ID   Î»mean    Î»eff  Î»min  Î»max    Weff  ZP (Jy)  \\\n",
       "0     Euclid/NISP0.Y  10742.4  10588.5   9405  12037  2366.2   1939.6   \n",
       "1  Euclid/NISP0.Blue  11071.0  10789.3   9252  12961  3162.2   1864.2   \n",
       "2     Euclid/NISP0.J  13623.5  13321.4  11625  15650  3680.5   1377.8   \n",
       "3   Euclid/NISP0.Red  15408.1  14674.9  12153  18762  6001.3   1150.6   \n",
       "4     Euclid/NISP0.H  17644.0  17258.5  15104  20315  4722.1    928.2   \n",
       "\n",
       "  Obs. Facility Instrument                   Description  \n",
       "0        Euclid       NISP     NISP Y approximate filter  \n",
       "1        Euclid       NISP  NISP Blue approximate filter  \n",
       "2        Euclid       NISP     NISP J approximate filter  \n",
       "3        Euclid       NISP   NISP Red approximate filter  \n",
       "4        Euclid       NISP     NISP H approximate filter  "
      ]
     },
     "execution_count": 38,
     "metadata": {},
     "output_type": "execute_result"
    }
   ],
   "source": [
    "generate_instrument_list(os.path.join(SVO_BASE_URL, observatory_list.iloc[10, 1]))"
   ]
  }
 ],
 "metadata": {
  "kernelspec": {
   "display_name": "Python 2",
   "language": "python",
   "name": "python2"
  },
  "language_info": {
   "codemirror_mode": {
    "name": "ipython",
    "version": 2
   },
   "file_extension": ".py",
   "mimetype": "text/x-python",
   "name": "python",
   "nbconvert_exporter": "python",
   "pygments_lexer": "ipython2",
   "version": "2.7.11"
  },
  "toc": {
   "nav_menu": {},
   "number_sections": true,
   "sideBar": true,
   "skip_h1_title": false,
   "toc_cell": false,
   "toc_position": {},
   "toc_section_display": "block",
   "toc_window_display": false
  }
 },
 "nbformat": 4,
 "nbformat_minor": 1
}
