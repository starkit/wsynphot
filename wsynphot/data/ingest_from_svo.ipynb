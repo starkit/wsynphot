{
 "cells": [
  {
   "cell_type": "code",
   "execution_count": 68,
   "metadata": {
    "ExecuteTime": {
     "end_time": "2018-10-18T16:23:54.337233Z",
     "start_time": "2018-10-18T16:23:54.332075Z"
    },
    "collapsed": true
   },
   "outputs": [],
   "source": [
    "import urllib2, re, os\n",
    "import bs4\n",
    "import pandas as pd\n",
    "from tqdm import tqdm_notebook"
   ]
  },
  {
   "cell_type": "code",
   "execution_count": 5,
   "metadata": {
    "ExecuteTime": {
     "end_time": "2018-10-18T15:38:51.099067Z",
     "start_time": "2018-10-18T15:38:51.094157Z"
    },
    "collapsed": true
   },
   "outputs": [],
   "source": [
    "SVO_BASE_URL = 'http://svo2.cab.inta-csic.es/svo/theory/fps'"
   ]
  },
  {
   "cell_type": "code",
   "execution_count": 48,
   "metadata": {
    "ExecuteTime": {
     "end_time": "2018-10-18T16:04:12.159001Z",
     "start_time": "2018-10-18T16:04:12.139663Z"
    },
    "collapsed": false
   },
   "outputs": [],
   "source": [
    "def generate_facilities_list():\n",
    "    svo_html = urllib2.urlopen(SVO_BASE_URL).read()\n",
    "    svo_soup = bs4.BeautifulSoup(svo_html)\n",
    "    observatory_links = svo_soup.findAll('a', attrs={'href':re.compile('gname')})\n",
    "    observatory_list = pd.DataFrame(index=range(len(observatory_links)), columns=['facility', 'url'])\n",
    "    for i, obs_link in enumerate(observatory_links):\n",
    "        observatory_list.loc[i] = obs_link.text, obs_link.attrs['href']\n",
    "    return observatory_list\n",
    "\n",
    "def generate_instruments_list(observatory_url):\n",
    "    observatory_html = urllib2.urlopen(observatory_url).read()\n",
    "    observatory_soup = bs4.BeautifulSoup(observatory_html)\n",
    "    return observatory_soup.findAll('a', attrs={'href':re.compile('index\\.php\\?mode=browse&gname=.+?&gname2=.+?')})\n",
    "#    filter_soup = observatory_soup.findAll('table')[8]\n",
    "#    filter_table = pd.read_html(str(filter_soup), header=0)[0]\n",
    "#    return filter_table\n",
    "\n",
    "def generate_filter_list(instrument_url):\n",
    "    observatory_html = urllib2.urlopen(observatory_url).read()\n",
    "    observatory_soup = bs4.BeautifulSoup(observatory_html)\n",
    "    filter_soup = observatory_soup.findAll('table')[8]\n",
    "    filter_table = pd.read_html(str(filter_soup), header=0)[0]\n",
    "    return filter_table"
   ]
  },
  {
   "cell_type": "code",
   "execution_count": 47,
   "metadata": {
    "ExecuteTime": {
     "end_time": "2018-10-18T16:03:12.984794Z",
     "start_time": "2018-10-18T16:03:12.121728Z"
    },
    "collapsed": false
   },
   "outputs": [],
   "source": [
    "facilities_list = generate_facilities_list()"
   ]
  },
  {
   "cell_type": "code",
   "execution_count": 52,
   "metadata": {
    "ExecuteTime": {
     "end_time": "2018-10-18T16:07:50.409414Z",
     "start_time": "2018-10-18T16:07:50.401225Z"
    },
    "collapsed": false
   },
   "outputs": [
    {
     "data": {
      "text/plain": [
       "'index.php?mode=browse&gname=2MASS'"
      ]
     },
     "execution_count": 52,
     "metadata": {},
     "output_type": "execute_result"
    }
   ],
   "source": [
    "facility.url"
   ]
  },
  {
   "cell_type": "code",
   "execution_count": 70,
   "metadata": {
    "ExecuteTime": {
     "end_time": "2018-10-18T16:24:47.563985Z",
     "start_time": "2018-10-18T16:24:47.557861Z"
    },
    "collapsed": true
   },
   "outputs": [],
   "source": [
    "tqdm_notebook?"
   ]
  },
  {
   "cell_type": "code",
   "execution_count": 71,
   "metadata": {
    "ExecuteTime": {
     "end_time": "2018-10-18T16:28:38.853204Z",
     "start_time": "2018-10-18T16:25:17.395601Z"
    },
    "collapsed": false
   },
   "outputs": [
    {
     "name": "stdout",
     "output_type": "stream",
     "text": [
      "\n"
     ]
    }
   ],
   "source": [
    "all_filters = None\n",
    "for i, facility in tqdm_notebook(facilities_list.iterrows(), desc='Facilities', total=len(facilities_list)):\n",
    "    #print \"Working on {0}\".format(facility.facility)\n",
    "    instruments = generate_instruments_list(os.path.join(SVO_BASE_URL, facility.url))\n",
    "    if len(instruments) == 0:\n",
    "        #print \"{0} does not have separate instruments\".format(facility.facility)\n",
    "        filter_list = generate_filter_list(os.path.join(SVO_BASE_URL, facility.url))\n",
    "        if all_filters is None:\n",
    "            all_filters = filter_list\n",
    "        else:\n",
    "            all_filters = all_filters.append(filter_list)\n",
    "    else:\n",
    "        for instrument in tqdm_notebook(instruments, desc='Instruments', leave=False):\n",
    "            #print \"Working on {0}\".format(instrument.text)\n",
    "            filter_list = generate_filter_list(os.path.join(SVO_BASE_URL, instrument.attrs['href']))\n",
    "            if all_filters is None:\n",
    "                all_filters = filter_list\n",
    "            else:\n",
    "                all_filters = all_filters.append(filter_list)\n"
   ]
  },
  {
   "cell_type": "code",
   "execution_count": 67,
   "metadata": {
    "ExecuteTime": {
     "end_time": "2018-10-18T16:21:06.559093Z",
     "start_time": "2018-10-18T16:21:06.529789Z"
    },
    "collapsed": false
   },
   "outputs": [
    {
     "data": {
      "text/html": [
       "<div>\n",
       "<table border=\"1\" class=\"dataframe\">\n",
       "  <thead>\n",
       "    <tr style=\"text-align: right;\">\n",
       "      <th></th>\n",
       "      <th>Filter ID</th>\n",
       "      <th>Î»mean</th>\n",
       "      <th>Î»eff</th>\n",
       "      <th>Î»min</th>\n",
       "      <th>Î»max</th>\n",
       "      <th>Weff</th>\n",
       "      <th>ZP (Jy)</th>\n",
       "      <th>Obs. Facility</th>\n",
       "      <th>Instrument</th>\n",
       "      <th>Description</th>\n",
       "    </tr>\n",
       "  </thead>\n",
       "  <tbody>\n",
       "    <tr>\n",
       "      <th>0</th>\n",
       "      <td>AKARI/IRC.N2</td>\n",
       "      <td>24106.1</td>\n",
       "      <td>22684.3</td>\n",
       "      <td>16800</td>\n",
       "      <td>29497</td>\n",
       "      <td>6973.8</td>\n",
       "      <td>559.8</td>\n",
       "      <td>AKARI</td>\n",
       "      <td>IRC</td>\n",
       "      <td>IRC NIR N2</td>\n",
       "    </tr>\n",
       "    <tr>\n",
       "      <th>1</th>\n",
       "      <td>AKARI/IRC.N3</td>\n",
       "      <td>32761.3</td>\n",
       "      <td>31302.7</td>\n",
       "      <td>25370</td>\n",
       "      <td>39870</td>\n",
       "      <td>8605.4</td>\n",
       "      <td>325.5</td>\n",
       "      <td>AKARI</td>\n",
       "      <td>IRC</td>\n",
       "      <td>IRC NIR N3</td>\n",
       "    </tr>\n",
       "    <tr>\n",
       "      <th>2</th>\n",
       "      <td>AKARI/IRC.N4</td>\n",
       "      <td>44704.0</td>\n",
       "      <td>42505.2</td>\n",
       "      <td>33991</td>\n",
       "      <td>57514</td>\n",
       "      <td>15278.9</td>\n",
       "      <td>184.4</td>\n",
       "      <td>AKARI</td>\n",
       "      <td>IRC</td>\n",
       "      <td>IRC NIR N4</td>\n",
       "    </tr>\n",
       "    <tr>\n",
       "      <th>3</th>\n",
       "      <td>AKARI/IRC.S7</td>\n",
       "      <td>73059.1</td>\n",
       "      <td>69539.0</td>\n",
       "      <td>55236</td>\n",
       "      <td>87426</td>\n",
       "      <td>17325.8</td>\n",
       "      <td>72.5</td>\n",
       "      <td>AKARI</td>\n",
       "      <td>IRC</td>\n",
       "      <td>IRC MIR-S S7</td>\n",
       "    </tr>\n",
       "    <tr>\n",
       "      <th>4</th>\n",
       "      <td>AKARI/IRC.S9W</td>\n",
       "      <td>92182.0</td>\n",
       "      <td>82283.6</td>\n",
       "      <td>58461</td>\n",
       "      <td>121880</td>\n",
       "      <td>41027.1</td>\n",
       "      <td>47.5</td>\n",
       "      <td>AKARI</td>\n",
       "      <td>IRC</td>\n",
       "      <td>IRC MIR-S S9W</td>\n",
       "    </tr>\n",
       "    <tr>\n",
       "      <th>5</th>\n",
       "      <td>AKARI/IRC.S11</td>\n",
       "      <td>109489.1</td>\n",
       "      <td>101932.1</td>\n",
       "      <td>82698</td>\n",
       "      <td>152993</td>\n",
       "      <td>41042.6</td>\n",
       "      <td>33.7</td>\n",
       "      <td>AKARI</td>\n",
       "      <td>IRC</td>\n",
       "      <td>IRC MIR-S S11</td>\n",
       "    </tr>\n",
       "    <tr>\n",
       "      <th>6</th>\n",
       "      <td>AKARI/IRC.L15</td>\n",
       "      <td>161620.4</td>\n",
       "      <td>152310.5</td>\n",
       "      <td>122114</td>\n",
       "      <td>214681</td>\n",
       "      <td>59787.6</td>\n",
       "      <td>15.5</td>\n",
       "      <td>AKARI</td>\n",
       "      <td>IRC</td>\n",
       "      <td>IRC MIR-L L15</td>\n",
       "    </tr>\n",
       "    <tr>\n",
       "      <th>7</th>\n",
       "      <td>AKARI/IRC.L18W</td>\n",
       "      <td>198065.7</td>\n",
       "      <td>176094.9</td>\n",
       "      <td>136082</td>\n",
       "      <td>286691</td>\n",
       "      <td>99690.1</td>\n",
       "      <td>10.7</td>\n",
       "      <td>AKARI</td>\n",
       "      <td>IRC</td>\n",
       "      <td>IRC MIR-L L18W</td>\n",
       "    </tr>\n",
       "    <tr>\n",
       "      <th>8</th>\n",
       "      <td>AKARI/IRC.L24</td>\n",
       "      <td>233524.4</td>\n",
       "      <td>227526.4</td>\n",
       "      <td>184025</td>\n",
       "      <td>287037</td>\n",
       "      <td>53337.8</td>\n",
       "      <td>7.4</td>\n",
       "      <td>AKARI</td>\n",
       "      <td>IRC</td>\n",
       "      <td>IRC MIR-L L24</td>\n",
       "    </tr>\n",
       "  </tbody>\n",
       "</table>\n",
       "</div>"
      ],
      "text/plain": [
       "        Filter ID    Î»mean     Î»eff   Î»min   Î»max     Weff  ZP (Jy)  \\\n",
       "0    AKARI/IRC.N2   24106.1   22684.3   16800   29497   6973.8    559.8   \n",
       "1    AKARI/IRC.N3   32761.3   31302.7   25370   39870   8605.4    325.5   \n",
       "2    AKARI/IRC.N4   44704.0   42505.2   33991   57514  15278.9    184.4   \n",
       "3    AKARI/IRC.S7   73059.1   69539.0   55236   87426  17325.8     72.5   \n",
       "4   AKARI/IRC.S9W   92182.0   82283.6   58461  121880  41027.1     47.5   \n",
       "5   AKARI/IRC.S11  109489.1  101932.1   82698  152993  41042.6     33.7   \n",
       "6   AKARI/IRC.L15  161620.4  152310.5  122114  214681  59787.6     15.5   \n",
       "7  AKARI/IRC.L18W  198065.7  176094.9  136082  286691  99690.1     10.7   \n",
       "8   AKARI/IRC.L24  233524.4  227526.4  184025  287037  53337.8      7.4   \n",
       "\n",
       "  Obs. Facility Instrument     Description  \n",
       "0         AKARI        IRC      IRC NIR N2  \n",
       "1         AKARI        IRC      IRC NIR N3  \n",
       "2         AKARI        IRC      IRC NIR N4  \n",
       "3         AKARI        IRC    IRC MIR-S S7  \n",
       "4         AKARI        IRC   IRC MIR-S S9W  \n",
       "5         AKARI        IRC   IRC MIR-S S11  \n",
       "6         AKARI        IRC   IRC MIR-L L15  \n",
       "7         AKARI        IRC  IRC MIR-L L18W  \n",
       "8         AKARI        IRC   IRC MIR-L L24  "
      ]
     },
     "execution_count": 67,
     "metadata": {},
     "output_type": "execute_result"
    }
   ],
   "source": [
    "all_filters[all_filters['Filter ID'].str.startswith('AKARI')]"
   ]
  },
  {
   "cell_type": "code",
   "execution_count": 39,
   "metadata": {
    "ExecuteTime": {
     "end_time": "2018-10-18T15:45:23.495750Z",
     "start_time": "2018-10-18T15:45:22.304123Z"
    },
    "collapsed": false
   },
   "outputs": [
    {
     "data": {
      "text/plain": [
       "[<a href=\"index.php?mode=browse&amp;gname=GCPD&amp;gname2=Cape\">Cape</a>,\n",
       " <a href=\"index.php?mode=browse&amp;gname=GCPD&amp;gname2=Cousins\">Cousins</a>,\n",
       " <a href=\"index.php?mode=browse&amp;gname=GCPD&amp;gname2=DDO\">DDO</a>,\n",
       " <a href=\"index.php?mode=browse&amp;gname=GCPD&amp;gname2=Eggen\">Eggen</a>,\n",
       " <a href=\"index.php?mode=browse&amp;gname=GCPD&amp;gname2=Geneva\">Geneva</a>,\n",
       " <a href=\"index.php?mode=browse&amp;gname=GCPD&amp;gname2=JHKLMN\">JHKLMN</a>,\n",
       " <a href=\"index.php?mode=browse&amp;gname=GCPD&amp;gname2=Johnson\">Johnson</a>,\n",
       " <a href=\"index.php?mode=browse&amp;gname=GCPD&amp;gname2=Stromgren\">Stromgren</a>,\n",
       " <a href=\"index.php?mode=browse&amp;gname=GCPD&amp;gname2=Vilnius\">Vilnius</a>,\n",
       " <a href=\"index.php?mode=browse&amp;gname=GCPD&amp;gname2=Walraven\">Walraven</a>,\n",
       " <a href=\"index.php?mode=browse&amp;gname=GCPD&amp;gname2=Washington\">Washington</a>,\n",
       " <a href=\"index.php?mode=browse&amp;gname=GCPD&amp;gname2=WBVR\">WBVR</a>]"
      ]
     },
     "execution_count": 39,
     "metadata": {},
     "output_type": "execute_result"
    }
   ],
   "source": [
    "generate_instrument_list(os.path.join(SVO_BASE_URL, observatory_list.iloc[13, 1]))"
   ]
  },
  {
   "cell_type": "code",
   "execution_count": 32,
   "metadata": {
    "ExecuteTime": {
     "end_time": "2018-10-18T15:43:08.736011Z",
     "start_time": "2018-10-18T15:43:08.728974Z"
    },
    "collapsed": false
   },
   "outputs": [
    {
     "data": {
      "text/plain": [
       "'index.php?mode=browse&gname=Gemini&gname2=NIRI'"
      ]
     },
     "execution_count": 32,
     "metadata": {},
     "output_type": "execute_result"
    }
   ],
   "source": []
  },
  {
   "cell_type": "code",
   "execution_count": 43,
   "metadata": {
    "ExecuteTime": {
     "end_time": "2018-10-18T14:59:01.118666Z",
     "start_time": "2018-10-18T14:59:00.411601Z"
    },
    "collapsed": true
   },
   "outputs": [],
   "source": [
    "x = urllib2.urlopen('http://svo2.cab.inta-csic.es/svo/theory/fps/getdata.php?format=ascii&id=2MASS/2MASS.J').read()"
   ]
  },
  {
   "cell_type": "code",
   "execution_count": 44,
   "metadata": {
    "ExecuteTime": {
     "end_time": "2018-10-18T14:59:01.817543Z",
     "start_time": "2018-10-18T14:59:01.809692Z"
    },
    "collapsed": false
   },
   "outputs": [
    {
     "data": {
      "text/plain": [
       "'10620.0 0.0000000000\\n10660.0 0.0004000000\\n10700.0 0.0015000000\\n10750.0 0.0027000001\\n10780.0 0.0055000000\\n10820.0 0.0122999996\\n10840.0 0.0203000009\\n10870.0 0.0306000002\\n10890.0 0.0405000001\\n10930.0 0.0515000001\\n10960.0 0.0564000010\\n11020.0 0.0718000010\\n11050.0 0.2736000121\\n11070.0 0.3409999907\\n11090.0 0.3583999872\\n11120.0 0.3801000118\\n11160.0 0.3307000101\\n11170.0 0.2395000011\\n11200.0 0.2500999868\\n11230.0 0.2833000124\\n11280.0 0.2581999898\\n11290.0 0.2515000105\\n11320.0 0.5381000042\\n11340.0 0.2231999934\\n11380.0 0.5368999839\\n11400.0 0.1102000028\\n11430.0 0.5292000175\\n11470.0 0.2619000077\\n11540.0 0.3201999962\\n11590.0 0.1743000001\\n11640.0 0.6069999933\\n11670.0 0.6179000139\\n11700.0 0.6762999892\\n11730.0 0.7279000282\\n11750.0 0.7465000153\\n11790.0 0.8303999901\\n11820.0 0.7903000116\\n11860.0 0.8095999956\\n11880.0 0.8368999958\\n11920.0 0.8360000253\\n11950.0 0.7498999834\\n11990.0 0.7080000043\\n12020.0 0.6988000274\\n12090.0 0.7049000263\\n12160.0 0.7003999949\\n12210.0 0.7328000069\\n12270.0 0.7056999803\\n12310.0 0.8424000144\\n12360.0 0.9218999743\\n12400.0 0.9524999857\\n12440.0 0.9675999880\\n12470.0 0.9595000148\\n12530.0 0.9226999879\\n12550.0 0.8930000067\\n12580.0 0.8529000282\\n12600.0 0.8022999763\\n12650.0 0.7501000166\\n12700.0 0.6780999899\\n12750.0 0.6524000168\\n12790.0 0.6388000250\\n12860.0 0.6424000263\\n12920.0 0.6485999823\\n12970.0 0.6823999882\\n13020.0 0.7529000044\\n13050.0 0.7759000063\\n13070.0 0.8118000031\\n13100.0 0.7770000100\\n13130.0 0.7210000157\\n13160.0 0.9524999857\\n13190.0 0.8550999761\\n13230.0 0.8414000273\\n13260.0 1.0000000000\\n13300.0 0.8946999907\\n13330.0 0.8549000025\\n13340.0 0.5378999710\\n13360.0 0.2799000144\\n13390.0 0.9064999819\\n13430.0 0.6893000007\\n13460.0 0.5533000231\\n13490.0 0.2432000041\\n13530.0 0.0143999998\\n13550.0 0.0002000000\\n13600.0 0.0401000008\\n13630.0 0.0044999998\\n13700.0 0.0003000000\\n13730.0 0.0372000001\\n13770.0 0.0005000000\\n13830.0 0.0000000000\\n13880.0 0.0001000000\\n13920.0 0.0033000000\\n13950.0 0.0003000000\\n13960.0 0.0085000005\\n13970.0 0.0253999997\\n13980.0 0.1184000000\\n14000.0 0.0001000000\\n14010.0 0.0001000000\\n14020.0 0.0520999990\\n14040.0 0.0104000000\\n14060.0 0.0478000008\\n14070.0 0.0004000000\\n14100.0 0.0024000001\\n14120.0 0.0052999998\\n14160.0 0.0086000003\\n14210.0 0.0007000000\\n14260.0 0.0003000000\\n14420.0 0.0004000000\\n14500.0 0.0000000000\\n'"
      ]
     },
     "execution_count": 44,
     "metadata": {},
     "output_type": "execute_result"
    }
   ],
   "source": [
    "x"
   ]
  },
  {
   "cell_type": "code",
   "execution_count": null,
   "metadata": {
    "collapsed": true
   },
   "outputs": [],
   "source": []
  }
 ],
 "metadata": {
  "kernelspec": {
   "display_name": "Python 2",
   "language": "python",
   "name": "python2"
  },
  "language_info": {
   "codemirror_mode": {
    "name": "ipython",
    "version": 2
   },
   "file_extension": ".py",
   "mimetype": "text/x-python",
   "name": "python",
   "nbconvert_exporter": "python",
   "pygments_lexer": "ipython2",
   "version": "2.7.11"
  },
  "toc": {
   "nav_menu": {},
   "number_sections": true,
   "sideBar": true,
   "skip_h1_title": false,
   "toc_cell": false,
   "toc_position": {},
   "toc_section_display": "block",
   "toc_window_display": false
  }
 },
 "nbformat": 4,
 "nbformat_minor": 1
}
