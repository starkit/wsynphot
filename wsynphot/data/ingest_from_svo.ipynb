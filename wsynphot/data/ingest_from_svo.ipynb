{
 "cells": [
  {
   "cell_type": "code",
   "execution_count": 68,
   "metadata": {
    "ExecuteTime": {
     "end_time": "2018-10-18T16:23:54.337233Z",
     "start_time": "2018-10-18T16:23:54.332075Z"
    },
    "collapsed": true
   },
   "outputs": [],
   "source": [
    "import urllib2, re, os\n",
    "import bs4\n",
    "import pandas as pd\n",
    "from tqdm import tqdm_notebook"
   ]
  },
  {
   "cell_type": "code",
   "execution_count": 5,
   "metadata": {
    "ExecuteTime": {
     "end_time": "2018-10-18T15:38:51.099067Z",
     "start_time": "2018-10-18T15:38:51.094157Z"
    },
    "collapsed": true
   },
   "outputs": [],
   "source": [
    "SVO_BASE_URL = 'http://svo2.cab.inta-csic.es/svo/theory/fps'"
   ]
  },
  {
   "cell_type": "code",
   "execution_count": 48,
   "metadata": {
    "ExecuteTime": {
     "end_time": "2018-10-18T16:04:12.159001Z",
     "start_time": "2018-10-18T16:04:12.139663Z"
    },
    "collapsed": false
   },
   "outputs": [],
   "source": [
    "def generate_facilities_list():\n",
    "    svo_html = urllib2.urlopen(SVO_BASE_URL).read()\n",
    "    svo_soup = bs4.BeautifulSoup(svo_html)\n",
    "    observatory_links = svo_soup.findAll('a', attrs={'href':re.compile('gname')})\n",
    "    observatory_list = pd.DataFrame(index=range(len(observatory_links)), columns=['facility', 'url'])\n",
    "    for i, obs_link in enumerate(observatory_links):\n",
    "        observatory_list.loc[i] = obs_link.text, obs_link.attrs['href']\n",
    "    return observatory_list\n",
    "\n",
    "def generate_instruments_list(observatory_url):\n",
    "    observatory_html = urllib2.urlopen(observatory_url).read()\n",
    "    observatory_soup = bs4.BeautifulSoup(observatory_html)\n",
    "    return observatory_soup.findAll('a', attrs={'href':re.compile('index\\.php\\?mode=browse&gname=.+?&gname2=.+?')})\n",
    "#    filter_soup = observatory_soup.findAll('table')[8]\n",
    "#    filter_table = pd.read_html(str(filter_soup), header=0)[0]\n",
    "#    return filter_table\n",
    "\n",
    "def generate_filter_list(instrument_url):\n",
    "    observatory_html = urllib2.urlopen(observatory_url).read()\n",
    "    observatory_soup = bs4.BeautifulSoup(observatory_html)\n",
    "    filter_soup = observatory_soup.findAll('table')[8]\n",
    "    filter_table = pd.read_html(str(filter_soup), header=0)[0]\n",
    "    return filter_table"
   ]
  },
  {
   "cell_type": "code",
   "execution_count": 47,
   "metadata": {
    "ExecuteTime": {
     "end_time": "2018-10-18T16:03:12.984794Z",
     "start_time": "2018-10-18T16:03:12.121728Z"
    },
    "collapsed": false
   },
   "outputs": [],
   "source": [
    "facilities_list = generate_facilities_list()"
   ]
  },
  {
   "cell_type": "code",
   "execution_count": 52,
   "metadata": {
    "ExecuteTime": {
     "end_time": "2018-10-18T16:07:50.409414Z",
     "start_time": "2018-10-18T16:07:50.401225Z"
    },
    "collapsed": false
   },
   "outputs": [
    {
     "data": {
      "text/plain": [
       "'index.php?mode=browse&gname=2MASS'"
      ]
     },
     "execution_count": 52,
     "metadata": {},
     "output_type": "execute_result"
    }
   ],
   "source": [
    "facility.url"
   ]
  },
  {
   "cell_type": "code",
   "execution_count": 70,
   "metadata": {
    "ExecuteTime": {
     "end_time": "2018-10-18T16:24:47.563985Z",
     "start_time": "2018-10-18T16:24:47.557861Z"
    },
    "collapsed": true
   },
   "outputs": [],
   "source": [
    "tqdm_notebook?"
   ]
  },
  {
   "cell_type": "code",
   "execution_count": 71,
   "metadata": {
    "ExecuteTime": {
     "end_time": "2018-10-18T16:28:38.853204Z",
     "start_time": "2018-10-18T16:25:17.395601Z"
    },
    "collapsed": false
   },
   "outputs": [
    {
     "name": "stdout",
     "output_type": "stream",
     "text": [
      "\n"
     ]
    }
   ],
   "source": [
    "all_filters = None\n",
    "for i, facility in tqdm_notebook(facilities_list.iterrows(), desc='Facilities', total=len(facilities_list)):\n",
    "    #print \"Working on {0}\".format(facility.facility)\n",
    "    instruments = generate_instruments_list(os.path.join(SVO_BASE_URL, facility.url))\n",
    "    if len(instruments) == 0:\n",
    "        #print \"{0} does not have separate instruments\".format(facility.facility)\n",
    "        filter_list = generate_filter_list(os.path.join(SVO_BASE_URL, facility.url))\n",
    "        if all_filters is None:\n",
    "            all_filters = filter_list\n",
    "        else:\n",
    "            all_filters = all_filters.append(filter_list)\n",
    "    else:\n",
    "        for instrument in tqdm_notebook(instruments, desc='Instruments', leave=False):\n",
    "            #print \"Working on {0}\".format(instrument.text)\n",
    "            filter_list = generate_filter_list(os.path.join(SVO_BASE_URL, instrument.attrs['href']))\n",
    "            if all_filters is None:\n",
    "                all_filters = filter_list\n",
    "            else:\n",
    "                all_filters = all_filters.append(filter_list)\n"
   ]
  },
  {
   "cell_type": "code",
   "execution_count": 74,
   "metadata": {
    "ExecuteTime": {
     "end_time": "2018-10-18T16:29:30.714333Z",
     "start_time": "2018-10-18T16:29:30.570857Z"
    },
    "collapsed": false
   },
   "outputs": [
    {
     "name": "stderr",
     "output_type": "stream",
     "text": [
      "/Users/wkerzend/anaconda3/envs/starkit/lib/python2.7/site-packages/pandas/io/pytables.py:270: PerformanceWarning: \n",
      "your performance may suffer as PyTables will pickle object types that it cannot\n",
      "map directly to c-types [inferred_type->mixed,key->axis0] [items->None]\n",
      "\n",
      "  f(store)\n",
      "/Users/wkerzend/anaconda3/envs/starkit/lib/python2.7/site-packages/pandas/io/pytables.py:270: PerformanceWarning: \n",
      "your performance may suffer as PyTables will pickle object types that it cannot\n",
      "map directly to c-types [inferred_type->mixed,key->block0_items] [items->None]\n",
      "\n",
      "  f(store)\n",
      "/Users/wkerzend/anaconda3/envs/starkit/lib/python2.7/site-packages/pandas/io/pytables.py:270: PerformanceWarning: \n",
      "your performance may suffer as PyTables will pickle object types that it cannot\n",
      "map directly to c-types [inferred_type->unicode,key->block1_items] [items->None]\n",
      "\n",
      "  f(store)\n",
      "/Users/wkerzend/anaconda3/envs/starkit/lib/python2.7/site-packages/pandas/core/generic.py:1138: PerformanceWarning: \n",
      "your performance may suffer as PyTables will pickle object types that it cannot\n",
      "map directly to c-types [inferred_type->mixed,key->block2_values] [items->['Filter ID', 'Obs. Facility', 'Instrument', 'Description']]\n",
      "\n",
      "  return pytables.to_hdf(path_or_buf, key, self, **kwargs)\n"
     ]
    }
   ],
   "source": [
    "all_filters.to_hdf('svo_all_filters.h5', 'all_filters')"
   ]
  },
  {
   "cell_type": "code",
   "execution_count": null,
   "metadata": {
    "collapsed": true
   },
   "outputs": [],
   "source": []
  }
 ],
 "metadata": {
  "kernelspec": {
   "display_name": "Python 2",
   "language": "python",
   "name": "python2"
  },
  "language_info": {
   "codemirror_mode": {
    "name": "ipython",
    "version": 2
   },
   "file_extension": ".py",
   "mimetype": "text/x-python",
   "name": "python",
   "nbconvert_exporter": "python",
   "pygments_lexer": "ipython2",
   "version": "2.7.11"
  },
  "toc": {
   "nav_menu": {},
   "number_sections": true,
   "sideBar": true,
   "skip_h1_title": false,
   "toc_cell": false,
   "toc_position": {},
   "toc_section_display": "block",
   "toc_window_display": false
  }
 },
 "nbformat": 4,
 "nbformat_minor": 1
}
