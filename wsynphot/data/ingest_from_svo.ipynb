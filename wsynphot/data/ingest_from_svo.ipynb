{
 "cells": [
  {
   "cell_type": "code",
   "execution_count": 13,
   "metadata": {
    "ExecuteTime": {
     "end_time": "2018-10-18T14:31:22.665529Z",
     "start_time": "2018-10-18T14:31:21.566706Z"
    },
    "collapsed": true
   },
   "outputs": [],
   "source": [
    "import urllib2, re\n",
    "import bs4\n",
    "import pandas as pd"
   ]
  },
  {
   "cell_type": "code",
   "execution_count": 25,
   "metadata": {
    "ExecuteTime": {
     "end_time": "2018-10-18T14:35:35.922576Z",
     "start_time": "2018-10-18T14:35:35.914293Z"
    },
    "collapsed": true
   },
   "outputs": [],
   "source": [
    "def generate_observatory_list(svo_url='http://svo2.cab.inta-csic.es/svo/theory/fps'):\n",
    "    svo_html = urllib2.urlopen(svo_url).read()\n",
    "    svo_soup = bs4.BeautifulSoup(svo_html)\n",
    "    observatory_links = svo_soup.findAll('a', attrs={'href':re.compile('gname')})\n",
    "    observatory_list = pd.DataFrame(index=range(len(observatory_links)), columns=['name', 'url'])\n",
    "    for i, obs_link in enumerate(observatory_links):\n",
    "        observatory_list.loc[i] = obs_link.text, obs_link.attrs['href']\n",
    "    return observatory_list\n",
    "    "
   ]
  },
  {
   "cell_type": "code",
   "execution_count": 26,
   "metadata": {
    "ExecuteTime": {
     "end_time": "2018-10-18T14:35:43.865837Z",
     "start_time": "2018-10-18T14:35:42.372586Z"
    },
    "collapsed": true
   },
   "outputs": [],
   "source": [
    "x = generate_observatory_list()"
   ]
  },
  {
   "cell_type": "code",
   "execution_count": null,
   "metadata": {
    "collapsed": true
   },
   "outputs": [],
   "source": []
  }
 ],
 "metadata": {
  "kernelspec": {
   "display_name": "Python 2",
   "language": "python",
   "name": "python2"
  },
  "language_info": {
   "codemirror_mode": {
    "name": "ipython",
    "version": 2
   },
   "file_extension": ".py",
   "mimetype": "text/x-python",
   "name": "python",
   "nbconvert_exporter": "python",
   "pygments_lexer": "ipython2",
   "version": "2.7.11"
  },
  "toc": {
   "nav_menu": {},
   "number_sections": true,
   "sideBar": true,
   "skip_h1_title": false,
   "toc_cell": false,
   "toc_position": {},
   "toc_section_display": "block",
   "toc_window_display": false
  }
 },
 "nbformat": 4,
 "nbformat_minor": 1
}
